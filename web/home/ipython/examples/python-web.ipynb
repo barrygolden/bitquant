{
 "metadata": {
  "name": "",
  "signature": "sha256:ee8768f2e1b033de6c8a8557c5b5cdba33ab339f5846ef8e5c9fb9792c54c864"
 },
 "nbformat": 3,
 "nbformat_minor": 0,
 "worksheets": [
  {
   "cells": [
    {
     "cell_type": "code",
     "collapsed": false,
     "input": [
      "#This creates a web service located off \n",
      "# http://localhost/python-web/\n",
      "#\n",
      "# To shutdown the server you will need to\n",
      "# restart the kernel\n",
      "\n",
      "port = 9010\n",
      "import tornado.web\n",
      "\n",
      "class MainHandler(tornado.web.RequestHandler):\n",
      "    def get(self):\n",
      "        self.write(\"Hello, world\")\n",
      "import bitquantutils\n",
      "bitquantutils.register_tornado_handler(\"/python-web\", 9010, MainHandler)"
     ],
     "language": "python",
     "metadata": {},
     "outputs": []
    },
    {
     "cell_type": "code",
     "collapsed": false,
     "input": [
      "def simple_app(environ, start_response):\n",
      "    status = \"200 OK\"\n",
      "    response_headers = [(\"Content-type\", \"text/plain\")]\n",
      "    start_response(status, response_headers)\n",
      "    return [b\"Hello world! with WSGI Handler\\n\"]\n",
      "\n",
      "import bitquantutils\n",
      "bitquantutils.register_wsgi(\"/python-wsgi\", 9011, simple_app)"
     ],
     "language": "python",
     "metadata": {},
     "outputs": []
    },
    {
     "cell_type": "code",
     "collapsed": false,
     "input": [],
     "language": "python",
     "metadata": {},
     "outputs": []
    }
   ],
   "metadata": {}
  }
 ]
}