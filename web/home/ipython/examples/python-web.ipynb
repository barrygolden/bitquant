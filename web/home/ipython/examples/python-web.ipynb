{
 "metadata": {
  "name": "",
  "signature": "sha256:f50068cb3eeb4e88739a46d32148c2a1eff6b5727ea7850174ac120816ce7c85"
 },
 "nbformat": 3,
 "nbformat_minor": 0,
 "worksheets": [
  {
   "cells": [
    {
     "cell_type": "code",
     "collapsed": false,
     "input": [
      "#This creates a web service located off \n",
      "# http://localhost/python-web/\n",
      "#\n",
      "# To shutdown the server you will need to\n",
      "# restart the kernel\n",
      "\n",
      "import tornado.httpserver\n",
      "import tornado.ioloop\n",
      "import tornado.options\n",
      "import tornado.web\n",
      "\n",
      "from tornado.options import define, options\n",
      "port = 9010\n",
      "\n",
      "class MainHandler(tornado.web.RequestHandler):\n",
      "    def get(self):\n",
      "        self.write(\"Hello, world\")\n",
      "\n",
      "def register():\n",
      "    import json\n",
      "    import urllib\n",
      "    data = {\"prefix\" : \"python-web\", \"port\" : port }\n",
      "    request = urllib.request.Request(\"http://localhost/app/register\")\n",
      "    request.add_header('Content-Type', 'application/json')\n",
      "    response = urllib.request.urlopen(request, json.dumps(data).encode('utf-8'))\n",
      "def main():\n",
      "    application = tornado.web.Application([\n",
      "        (r\"/python-web\", MainHandler),\n",
      "    ])\n",
      "    http_server = tornado.httpserver.HTTPServer(application)\n",
      "    http_server.listen(port)\n",
      "    tornado.ioloop.IOLoop.instance().start()\n",
      "\n",
      "    "
     ],
     "language": "python",
     "metadata": {},
     "outputs": []
    },
    {
     "cell_type": "code",
     "collapsed": false,
     "input": [
      "main()"
     ],
     "language": "python",
     "metadata": {},
     "outputs": []
    },
    {
     "cell_type": "code",
     "collapsed": false,
     "input": [
      "import urllib\n"
     ],
     "language": "python",
     "metadata": {},
     "outputs": []
    },
    {
     "cell_type": "code",
     "collapsed": false,
     "input": [
      "register()"
     ],
     "language": "python",
     "metadata": {},
     "outputs": []
    },
    {
     "cell_type": "code",
     "collapsed": false,
     "input": [],
     "language": "python",
     "metadata": {},
     "outputs": []
    }
   ],
   "metadata": {}
  }
 ]
}