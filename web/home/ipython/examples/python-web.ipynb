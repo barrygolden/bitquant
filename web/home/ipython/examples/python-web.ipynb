{
 "metadata": {
  "name": "",
  "signature": "sha256:550695e6bd30ddce85abf59ccef100be3811eb855c3fa1815c9cd9c6d5551114"
 },
 "nbformat": 3,
 "nbformat_minor": 0,
 "worksheets": [
  {
   "cells": [
    {
     "cell_type": "code",
     "collapsed": false,
     "input": [
      "#This creates a web service located off \n",
      "# http://localhost/python-web\n",
      "#\n",
      "# To shutdown the server you will need to\n",
      "# restart the kernel\n",
      "\n",
      "import tornado.web\n",
      "\n",
      "class MainHandler(tornado.web.RequestHandler):\n",
      "    def get(self):\n",
      "        self.write(\"Hello, world\")\n",
      "import bitquantutils\n",
      "bitquantutils.register_tornado_handler(\"/python-web\",  MainHandler)"
     ],
     "language": "python",
     "metadata": {},
     "outputs": []
    },
    {
     "cell_type": "code",
     "collapsed": false,
     "input": [
      "def simple_app(environ, start_response):\n",
      "    status = \"200 OK\"\n",
      "    response_headers = [(\"Content-type\", \"text/plain\")]\n",
      "    start_response(status, response_headers)\n",
      "    return [b\"Hello world! with WSGI Handler\\n\"]\n",
      "\n",
      "import bitquantutils\n",
      "bitquantutils.register_wsgi(\"/python-wsgi\", simple_app)"
     ],
     "language": "python",
     "metadata": {},
     "outputs": []
    },
    {
     "cell_type": "code",
     "collapsed": false,
     "input": [
      "from IPython.display import HTML\n",
      "def html_response(input):\n",
      "    return \"\"\"<table>\n",
      "<tr>\n",
      "<th>Header 1</th>\n",
      "<th>Header 2</th>\n",
      "</tr>\n",
      "<tr>\n",
      "<td>row 1, cell 1</td>\n",
      "<td>row 1, cell 2</td>\n",
      "</tr>\n",
      "<tr>\n",
      "<td>row 2, cell 1</td>\n",
      "<td>row 2, cell 2</td>\n",
      "</tr>\n",
      "</table>\"\"\"\n",
      "HTML(html_response(None))\n",
      "import tornado.web\n",
      "\n",
      "class MainHandler(tornado.web.RequestHandler):\n",
      "    def get(self):\n",
      "        self.write(html_response(None))\n",
      "\n",
      "import bitquantutils\n",
      "bitquantutils.register_tornado_handler(\"/python-web-html\", MainHandler)"
     ],
     "language": "python",
     "metadata": {},
     "outputs": []
    },
    {
     "cell_type": "code",
     "collapsed": false,
     "input": [
      "import bitquantutils\n",
      "bitquantutils.start_loop()"
     ],
     "language": "python",
     "metadata": {},
     "outputs": []
    },
    {
     "cell_type": "code",
     "collapsed": false,
     "input": [
      "bitquantutils.unregister_all()"
     ],
     "language": "python",
     "metadata": {},
     "outputs": []
    },
    {
     "cell_type": "code",
     "collapsed": false,
     "input": [],
     "language": "python",
     "metadata": {},
     "outputs": []
    }
   ],
   "metadata": {}
  }
 ]
}