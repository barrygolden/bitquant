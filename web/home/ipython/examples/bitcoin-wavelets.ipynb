{
 "metadata": {
  "name": "",
  "signature": "sha256:b795d39fc41f60f1ff456d3771148ad9e70280f964708d577aadd27fc9e6b11a"
 },
 "nbformat": 3,
 "nbformat_minor": 0,
 "worksheets": [
  {
   "cells": [
    {
     "cell_type": "code",
     "collapsed": false,
     "input": [
      "from BitcoinAverager import TimeUtil, BitcoinAverager, PriceCompositor, Forex, BitcoinDataLoader"
     ],
     "language": "python",
     "metadata": {},
     "outputs": []
    },
    {
     "cell_type": "code",
     "collapsed": false,
     "input": [
      "all_exchanges = ['bitfinexUSD','bitstampUSD','itbitUSD',\n",
      "                 'itbitEUR','krakenEUR','itbitSGD','anxhkHKD',\n",
      "                 'okcoinCNY', 'btcnCNY']\n",
      "compositor = PriceCompositor(all_exchanges)\n",
      "compositor.reload()"
     ],
     "language": "python",
     "metadata": {},
     "outputs": []
    },
    {
     "cell_type": "code",
     "collapsed": false,
     "input": [
      "from datetime import datetime\n",
      "from dateutil.relativedelta import relativedelta\n",
      "import pytz\n",
      "hkg_time = pytz.timezone(\"Asia/Hong_Kong\")\n",
      "start_time = hkg_time.localize(datetime(2015,1,1,6,0,0))\n",
      "period = relativedelta(minutes=1)\n",
      "intervals = 60 * 24*90\n",
      "compositor = PriceCompositor(['bitfinexUSD'], base_currency='USD')\n",
      "data = compositor.composite_table(start_time, period, intervals)\n",
      "data"
     ],
     "language": "python",
     "metadata": {},
     "outputs": []
    },
    {
     "cell_type": "code",
     "collapsed": false,
     "input": [
      "averagers = {}\n",
      "exchanges = [\"anxhkHKD\", \"bitfinexUSD\", \"bitstampUSD\", \"btceUSD\", \"itbitEUR\", \"itbitSGD\", \"itbitUSD\", \\\n",
      "             \"krakenEUR\", \"krakenUSD\", \"okcoinCNY\", \"btcnCNY\"]\n",
      "\n",
      "for e in exchanges:\n",
      "    averagers[e] = BitcoinAverager(e)\n",
      "\n",
      "averager = averagers[\"bitfinexUSD\"]\n"
     ],
     "language": "python",
     "metadata": {},
     "outputs": []
    },
    {
     "cell_type": "code",
     "collapsed": false,
     "input": [
      "data['price'].tolist()"
     ],
     "language": "python",
     "metadata": {},
     "outputs": []
    },
    {
     "cell_type": "code",
     "collapsed": false,
     "input": [
      "from scipy import signal\n",
      "import matplotlib.pyplot as plt\n",
      "sig  = data['price'].tolist()\n",
      "widths = pow(2,np.arange(0, 18, 0.5))\n",
      "cwtmatr = signal.cwt(sig, signal.ricker, widths)\n",
      "imgplot = plt.imshow(cwtmatr, aspect='auto')\n",
      "imgplot"
     ],
     "language": "python",
     "metadata": {},
     "outputs": []
    },
    {
     "cell_type": "code",
     "collapsed": false,
     "input": [
      "pow(2,np.arange(0, 16, 0.5))"
     ],
     "language": "python",
     "metadata": {},
     "outputs": []
    },
    {
     "cell_type": "code",
     "collapsed": false,
     "input": [
      "from scipy import signal\n",
      "import matplotlib.pyplot as plt\n",
      "sig  = data['volume'].tolist()\n",
      "widths = pow(2,np.arange(0, 18, 0.5))\n",
      "cwtmatr = signal.cwt(sig, signal.ricker, widths)\n",
      "imgplot = plt.imshow(cwtmatr, aspect='auto')\n",
      "imgplot"
     ],
     "language": "python",
     "metadata": {},
     "outputs": []
    },
    {
     "cell_type": "code",
     "collapsed": false,
     "input": [],
     "language": "python",
     "metadata": {},
     "outputs": []
    }
   ],
   "metadata": {}
  }
 ]
}