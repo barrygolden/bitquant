{
 "metadata": {
  "name": "",
  "signature": "sha256:f3175d69711fcfaafcd472b098f9bf94820da13296d1bc18ac2657b2ecf0c23d"
 },
 "nbformat": 3,
 "nbformat_minor": 0,
 "worksheets": [
  {
   "cells": [
    {
     "cell_type": "code",
     "collapsed": false,
     "input": [
      "%matplotlib inline\n",
      "from QuantLib import *"
     ],
     "language": "python",
     "metadata": {},
     "outputs": []
    },
    {
     "cell_type": "code",
     "collapsed": false,
     "input": [
      "todaysDate = Date.todaysDate()\n",
      "Settings.instance().evaluationDate = todaysDate\n",
      "settlementDate = todaysDate + Period(2, Days)\n",
      "riskFreeRate = FlatForward(settlementDate, 0.00, Actual365Fixed())\n",
      "\n",
      "payoff = CryptoPayoffQuanto()"
     ],
     "language": "python",
     "metadata": {},
     "outputs": []
    },
    {
     "cell_type": "code",
     "collapsed": false,
     "input": [
      "settlementDate\n",
      "payoff(367.0)"
     ],
     "language": "python",
     "metadata": {},
     "outputs": []
    },
    {
     "cell_type": "code",
     "collapsed": false,
     "input": [
      "timestamp = Date.universalDateTime()\n",
      "newtime = timestamp + Period(3, Years)\n",
      "newtime.year()\n",
      "dcc = ContinuousTime(Years)"
     ],
     "language": "python",
     "metadata": {},
     "outputs": []
    },
    {
     "cell_type": "code",
     "collapsed": false,
     "input": [
      "import numpy as np\n",
      "import matplotlib.pyplot as plt\n",
      "\n",
      "def option(strike, vol, t, putcall):\n",
      "    now = Date.universalDateTime()\n",
      "    Settings.instance().evaluationDate = now\n",
      "    settlementDate = todaysDate + Period(t, Weeks)\n",
      "    riskFreeRate = FlatForward(todaysDate, 0.00, ContinuousTime.perDay())\n",
      "\n",
      "    # option parameters\n",
      "    exercise = EuropeanExercise(settlementDate)\n",
      "    payoff = CryptoPayoffQuanto()\n",
      "    x = np.arange(strike*0.8, strike*1.2, 0.01);\n",
      "\n",
      "    volatility = BlackConstantVol(todaysDate, TARGET(), vol, ContinuousTime.perDay())\n",
      "    dividendYield = FlatForward(settlementDate, 0.00, ContinuousTime.perDay())\n",
      "    underlying = SimpleQuote(0.0)\n",
      "    process = BlackScholesMertonProcess(QuoteHandle(underlying),\n",
      "                                    YieldTermStructureHandle(dividendYield),\n",
      "                                    YieldTermStructureHandle(riskFreeRate),\n",
      "                                    BlackVolTermStructureHandle(volatility))\n",
      "    option = CryptoCurrencyFuture(settlementDate, payoff)\n",
      "    # method: analytic\n",
      "    option.setPricingEngine(FDEuropeanEngine(process))\n",
      "    underlying.setValue(strike)\n",
      "    option.recalculate()\n",
      "    priceCurve = option.priceCurve()\n",
      "    grid = priceCurve.grid()\n",
      "    values = priceCurve.values()\n",
      "    plt.figure(1, figsize=(10,8))\n",
      "    plt.subplot(221)\n",
      "    y = list(map(payoff, grid))\n",
      "    plt.plot(grid, y)\n",
      "    plt.plot(grid, list(values))\n",
      "    plt.subplot(222)\n",
      "    delta_grid = priceCurve.derivative()\n",
      "    plt.plot(delta_grid.grid(), list(delta_grid.values()))\n",
      "    gamma_grid = delta_grid.derivative()\n",
      "    plt.subplot(223)\n",
      "    plt.plot(gamma_grid.grid(), list(gamma_grid.values()))\n",
      "    plt.subplot(224)\n",
      "    thetaCurve = option.thetaCurve()\n",
      "    plt.plot(thetaCurve.grid(), list(thetaCurve.values()))\n",
      "#    plt.plot(x, list(map(mydelta,x)))\n"
     ],
     "language": "python",
     "metadata": {},
     "outputs": []
    },
    {
     "cell_type": "code",
     "collapsed": false,
     "input": [
      "option(350, 0.02, 90, 1)"
     ],
     "language": "python",
     "metadata": {},
     "outputs": []
    },
    {
     "cell_type": "code",
     "collapsed": false,
     "input": [
      "np.arange(0.8, 1.2,0.1)"
     ],
     "language": "python",
     "metadata": {},
     "outputs": []
    },
    {
     "cell_type": "code",
     "collapsed": false,
     "input": [],
     "language": "python",
     "metadata": {},
     "outputs": []
    }
   ],
   "metadata": {}
  }
 ]
}