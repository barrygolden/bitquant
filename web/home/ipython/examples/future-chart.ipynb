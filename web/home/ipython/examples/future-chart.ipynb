{
 "metadata": {
  "name": "",
  "signature": "sha256:893b713fa88c96b6569662d9f12dc5a49abfce1b154c19e2add8b97fe4af2706"
 },
 "nbformat": 3,
 "nbformat_minor": 0,
 "worksheets": [
  {
   "cells": [
    {
     "cell_type": "code",
     "collapsed": false,
     "input": [
      "import json\n",
      "import requests\n",
      "import dateutil.parser\n",
      "import matplotlib.pyplot as plt"
     ],
     "language": "python",
     "metadata": {},
     "outputs": []
    },
    {
     "cell_type": "code",
     "collapsed": false,
     "input": [
      "#usdcny = requests.get('http://rate-exchange.appspot.com/currency?from=USD&to=CNY').json()['rate']\n",
      "usdcny = 6.18\n",
      "\n",
      "def get_data():\n",
      "    retval = {}\n",
      "    #bitmex\n",
      "    data = requests.get('https://www.bitmex.com:443/api/v1/instrument/active').json()\n",
      "    for contracttype in [\"XBU\", \"XBT\"]:\n",
      "        symbols = []\n",
      "        dates = []\n",
      "        bids = []\n",
      "        asks = []\n",
      "        last = []\n",
      "        for i in data:\n",
      "            if i['rootSymbol'] == contracttype and i['buyLeg'] == \"\":\n",
      "                dates.append(dateutil.parser.parse(i['expiry']))\n",
      "                symbols.append(i['symbol'])\n",
      "                bids.append(i['bidPrice'])\n",
      "                asks.append(i['askPrice'])\n",
      "                last.append(i['lastPrice'])\n",
      "        retval[\"bitmex\" + contracttype ] = {\"dates\": dates,\n",
      "                                            \"bids\" : np.array(bids),\n",
      "                                            \"asks\" : np.array(asks),\n",
      "                                            \"last\" : np.array(last)}\n",
      "        #okcoin\n",
      "    symbols = []\n",
      "    dates = []\n",
      "    bids = []\n",
      "    asks = []\n",
      "    last = []\n",
      "    for i in [\"this_week\", \"next_week\", \"month\", \"quarter\"]:\n",
      "        response = requests.get('https://www.okcoin.com/api/future_ticker.do', params={\"symbol\": \"btc_usd\",\n",
      "                                                                                       \"contractType\": i})\n",
      "        data = response.json()[\"ticker\"][0]\n",
      "        d = datetime.date(int(str(data['contractId'])[0:4]),\n",
      "                      int(str(data['contractId'])[4:6]),\n",
      "                      int(str(data['contractId'])[6:8]))\n",
      "        dates.append(d)\n",
      "        bids.append(data[\"buy\"])\n",
      "        asks.append(data['sell'])\n",
      "        last.append(data['last'])\n",
      "    retval['okcoin'] = {\"dates\": dates,\n",
      "                        \"bids\" : np.array(bids),\n",
      "                        \"asks\" : np.array(asks),\n",
      "                        \"last\": np.array(last)}\n",
      "    return retval\n"
     ],
     "language": "python",
     "metadata": {},
     "outputs": []
    },
    {
     "cell_type": "code",
     "collapsed": false,
     "input": [
      "def plotme(data):\n",
      "    import matplotlib.pyplot as plt\n",
      "    fig, ax = plt.subplots()\n",
      "    plt.margins(x=0.1, y=0.1)\n",
      "    for k, v in data.items():\n",
      "        ax.errorbar(v['dates'], v['last'], \n",
      "                    yerr=[v['last']-v['asks'], \n",
      "                          v['bids']-v['last']], fmt=\"o\")\n"
     ],
     "language": "python",
     "metadata": {},
     "outputs": []
    },
    {
     "cell_type": "code",
     "collapsed": false,
     "input": [
      "plotme(get_data())\n",
      "plt.margins()"
     ],
     "language": "python",
     "metadata": {},
     "outputs": []
    },
    {
     "cell_type": "code",
     "collapsed": false,
     "input": [
      "for i in [\"week\", \"next_week\", \"quarter\"]:\n",
      "    data = requests.get('http://market.bitvc.com/futures/ticker_btc_' + i + '.js').json()\n",
      "    print(data)"
     ],
     "language": "python",
     "metadata": {},
     "outputs": []
    }
   ],
   "metadata": {}
  }
 ]
}