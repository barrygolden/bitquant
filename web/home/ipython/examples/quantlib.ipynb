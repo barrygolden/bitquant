{
 "metadata": {
  "name": "",
  "signature": "sha256:534fa6d4b559e6d233bd36599cc1690e66c7c66936d9cd9900cc8f26cbeecc17"
 },
 "nbformat": 3,
 "nbformat_minor": 0,
 "worksheets": [
  {
   "cells": [
    {
     "cell_type": "code",
     "collapsed": false,
     "input": [
      "from QuantLib import *"
     ],
     "language": "python",
     "metadata": {},
     "outputs": []
    },
    {
     "cell_type": "code",
     "collapsed": false,
     "input": [
      "todaysDate = Date.todaysDate()\n",
      "Settings.instance().evaluationDate = todaysDate\n",
      "settlementDate = todaysDate + Period(2, Days)\n",
      "riskFreeRate = FlatForward(settlementDate, 0.00, Actual365Fixed())\n",
      "\n",
      "# option parameters\n",
      "exercise = EuropeanExercise(settlementDate)\n",
      "payoff = PlainVanillaPayoff(Option.Call, 355.0)"
     ],
     "language": "python",
     "metadata": {},
     "outputs": []
    },
    {
     "cell_type": "code",
     "collapsed": false,
     "input": [
      "settlementDate\n",
      "payoff(367.0)"
     ],
     "language": "python",
     "metadata": {},
     "outputs": []
    },
    {
     "cell_type": "code",
     "collapsed": false,
     "input": [
      "timestamp = Date.universalDateTime()\n",
      "newtime = timestamp + Period(3, Years)\n",
      "newtime.year()\n",
      "dcc = ContinuousTime(Years)"
     ],
     "language": "python",
     "metadata": {},
     "outputs": []
    },
    {
     "cell_type": "code",
     "collapsed": false,
     "input": [
      "import numpy as np\n",
      "import matplotlib.pyplot as plt\n",
      "\n",
      "def option(strike, vol, t, putcall):\n",
      "    now = Date.universalDateTime()\n",
      "    Settings.instance().evaluationDate = now\n",
      "    settlementDate = todaysDate + Period(3, Weeks)\n",
      "    riskFreeRate = FlatForward(settlementDate, 0.00, ContinuousTime.perDay())\n",
      "\n",
      "    # option parameters\n",
      "    exercise = EuropeanExercise(settlementDate)\n",
      "    payoff = PlainVanillaPayoff(Option.Call, strike)\n",
      "\n",
      "    volatility = BlackConstantVol(todaysDate, TARGET(), vol, ContinuousTime.perDay())\n",
      "    dividendYield = FlatForward(settlementDate, 0.00, ContinuousTime.perDay())\n",
      "    underlying = SimpleQuote(0.0)\n",
      "    process = BlackScholesMertonProcess(QuoteHandle(underlying),\n",
      "                                    YieldTermStructureHandle(dividendYield),\n",
      "                                    YieldTermStructureHandle(riskFreeRate),\n",
      "                                    BlackVolTermStructureHandle(volatility))\n",
      "    option = VanillaOption(payoff, exercise)\n",
      "    # method: analytic\n",
      "    option.setPricingEngine(AnalyticEuropeanEngine(process))\n",
      "    return (option, underlying)\n",
      "\n",
      "def plotme(option, underlying, strike):\n",
      "    x = np.arange(strike*0.8, strike*1.2, 0.01);\n",
      "    def myfunc(x):\n",
      "        underlying .setValue(x)\n",
      "        return option.NPV()\n",
      "    def mydelta(x):\n",
      "        underlying.setValue(x)\n",
      "        return option.delta()\n",
      "    def mytheta(x):\n",
      "        underlying.setValue(x)\n",
      "        return option.theta()\n",
      "    plt.figure(1, figsize=(10,8))\n",
      "    plt.subplot(221)\n",
      "    y = list(map(payoff, x))\n",
      "    plt.plot(x, y)\n",
      "    plt.plot(x, list(map(myfunc,x)))\n",
      "    plt.subplot(222)\n",
      "    plt.plot(x, list(map(mydelta,x)))\n",
      "    plt.subplot(223)\n",
      "    plt.plot(x, list(map(mytheta,x)))"
     ],
     "language": "python",
     "metadata": {},
     "outputs": []
    },
    {
     "cell_type": "code",
     "collapsed": false,
     "input": [
      "(o, u) = option(350, 0.02, 90, 1)\n",
      "plotme(o, u)"
     ],
     "language": "python",
     "metadata": {},
     "outputs": []
    },
    {
     "cell_type": "code",
     "collapsed": false,
     "input": [
      "np.arange(0.8, 1.2,0.1)"
     ],
     "language": "python",
     "metadata": {},
     "outputs": []
    },
    {
     "cell_type": "code",
     "collapsed": false,
     "input": [],
     "language": "python",
     "metadata": {},
     "outputs": []
    }
   ],
   "metadata": {}
  }
 ]
}